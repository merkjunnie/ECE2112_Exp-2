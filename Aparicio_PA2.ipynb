{
 "cells": [
  {
   "cell_type": "markdown",
   "id": "30f1c0ae-f73e-4946-a462-60efeb11a6bd",
   "metadata": {},
   "source": [
    "# PA2 - Numpy"
   ]
  },
  {
   "cell_type": "code",
   "execution_count": 5,
   "id": "080689c4-66fb-4a39-abb7-55990834f84b",
   "metadata": {},
   "outputs": [],
   "source": [
    "import numpy as np"
   ]
  },
  {
   "cell_type": "markdown",
   "id": "3edde219-5609-4c96-8e3c-7cdb53d096ee",
   "metadata": {},
   "source": [
    "#### Problem 1 - Normalization Problem"
   ]
  },
  {
   "cell_type": "code",
   "execution_count": 95,
   "id": "9ace77d2-907d-4860-b19c-c7027cb03d29",
   "metadata": {},
   "outputs": [],
   "source": [
    "#Create a random 5x5 ndarray\n",
    "X = np.random.random((5,5))\n",
    "\n",
    "#Use the formula for normalization\n",
    "Z = (X - X.mean()) / X.std()\n",
    "\n",
    "#Save the result to a file named 'X_normalized.npy'\n",
    "np.save('X_normalized.npy', Z)"
   ]
  },
  {
   "cell_type": "code",
   "execution_count": 184,
   "id": "e077d170-c2a3-406b-b6df-e0ce43e98392",
   "metadata": {},
   "outputs": [
    {
     "name": "stdout",
     "output_type": "stream",
     "text": [
      "[[ 0.11674555  1.27114896 -0.77778153  0.01817089 -1.08760372]\n",
      " [ 0.85278186  1.08352637  0.98368374  1.03672392 -1.42856932]\n",
      " [-0.0596307  -1.71853473  0.93152963  1.10755926 -0.42389101]\n",
      " [-0.72583447  1.33554247  0.43705157 -1.47261055 -1.37363689]\n",
      " [-1.08961115  0.71414721  1.26582131 -0.58074155 -0.41598713]]\n"
     ]
    }
   ],
   "source": [
    "#Load and display the saved ndarray from the file\n",
    "array = np.load('X_normalized.npy')\n",
    "print(array)"
   ]
  },
  {
   "cell_type": "markdown",
   "id": "8df9a293-7c3f-437f-8f28-209abc2f961d",
   "metadata": {},
   "source": [
    "#### Problem 2 - Divisible by 3 Problem"
   ]
  },
  {
   "cell_type": "code",
   "execution_count": 192,
   "id": "eddc2b9c-459a-46ee-b853-7f88cd49bffb",
   "metadata": {},
   "outputs": [
    {
     "name": "stdout",
     "output_type": "stream",
     "text": [
      "[[    1     4     9    16    25    36    49    64    81   100]\n",
      " [  121   144   169   196   225   256   289   324   361   400]\n",
      " [  441   484   529   576   625   676   729   784   841   900]\n",
      " [  961  1024  1089  1156  1225  1296  1369  1444  1521  1600]\n",
      " [ 1681  1764  1849  1936  2025  2116  2209  2304  2401  2500]\n",
      " [ 2601  2704  2809  2916  3025  3136  3249  3364  3481  3600]\n",
      " [ 3721  3844  3969  4096  4225  4356  4489  4624  4761  4900]\n",
      " [ 5041  5184  5329  5476  5625  5776  5929  6084  6241  6400]\n",
      " [ 6561  6724  6889  7056  7225  7396  7569  7744  7921  8100]\n",
      " [ 8281  8464  8649  8836  9025  9216  9409  9604  9801 10000]]\n"
     ]
    }
   ],
   "source": [
    "#Create a 10x10 ndarray with squares of the first 100 positive integers\n",
    "S = np.arange(1, 101).reshape(10, 10) ** 2 \n",
    "print(S)"
   ]
  },
  {
   "cell_type": "code",
   "execution_count": 218,
   "id": "60240478-943c-4b65-ba66-6720418c03f4",
   "metadata": {},
   "outputs": [],
   "source": [
    "#Determine elements divisible by 3\n",
    "div_by_3 = S[S % 3 == 0]\n",
    "\n",
    "#Save the result to a file named 'div_by_3.npy'\n",
    "np.save('div_by_3.npy', div_by_3)"
   ]
  },
  {
   "cell_type": "code",
   "execution_count": 212,
   "id": "f03d5373-8008-4dbb-ae0e-51d7a35cbad1",
   "metadata": {},
   "outputs": [
    {
     "name": "stdout",
     "output_type": "stream",
     "text": [
      "[   9   36   81  144  225  324  441  576  729  900 1089 1296 1521 1764\n",
      " 2025 2304 2601 2916 3249 3600 3969 4356 4761 5184 5625 6084 6561 7056\n",
      " 7569 8100 8649 9216 9801]\n"
     ]
    }
   ],
   "source": [
    "#Load display and the saved ndarray from the file\n",
    "array = np.load('div_by_3.npy')\n",
    "print(array)"
   ]
  },
  {
   "cell_type": "code",
   "execution_count": null,
   "id": "ab32d25d-0df6-4e4b-9987-803800063977",
   "metadata": {},
   "outputs": [],
   "source": []
  }
 ],
 "metadata": {
  "kernelspec": {
   "display_name": "Python 3 (ipykernel)",
   "language": "python",
   "name": "python3"
  },
  "language_info": {
   "codemirror_mode": {
    "name": "ipython",
    "version": 3
   },
   "file_extension": ".py",
   "mimetype": "text/x-python",
   "name": "python",
   "nbconvert_exporter": "python",
   "pygments_lexer": "ipython3",
   "version": "3.12.4"
  }
 },
 "nbformat": 4,
 "nbformat_minor": 5
}
